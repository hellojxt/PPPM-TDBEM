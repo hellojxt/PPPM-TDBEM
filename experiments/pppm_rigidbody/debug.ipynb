{
 "cells": [
  {
   "cell_type": "code",
   "execution_count": 1,
   "metadata": {},
   "outputs": [
    {
     "data": {
      "application/vnd.jupyter.widget-view+json": {
       "model_id": "fcc7f2913ca449c8ad740cd2c4091d7f",
       "version_major": 2,
       "version_minor": 0
      },
      "text/plain": [
       "Box(children=(Box(children=(FigureWidget({\n",
       "    'data': [{'i': array([0, 0, 4, 4, 0, 0, 1, 1, 0, 0, 3, 3, 8]),\n",
       "…"
      ]
     },
     "metadata": {},
     "output_type": "display_data"
    }
   ],
   "source": [
    "import sys\n",
    "sys.path.append('../../python_scripts')\n",
    "from visulize import viewer\n",
    "import numpy as np\n",
    "\n",
    "unit_cube_vertices = np.array([0, 0, 0, 1, 0, 0, 1, 1, 0, 0, 1, 0, 0, 0, 1, 1, 0, 1, 1, 1, 1, 0, 1, 1]).reshape(-1, 3)\n",
    "unit_cube_triangles = np.array([0, 1, 2, 0, 2, 3, 4, 5, 6, 4, 6, 7, 0, 4, 7, 0, 7, 3, 1, 5, 6, 1, 6, 2, 0, 4, 5, 0, 5, 1, 3, 2, 6, 3, 6, 7]).reshape(-1, 3)\n",
    "unit_cube_vertices = unit_cube_vertices - 0.5\n",
    "cude_center = np.array([-0.071875,0.064375,-0.025625])\n",
    "cube_size = np.ones(3)* 6.250000e-3\n",
    "\n",
    "face_vertices = np.array([\n",
    "    [-0.066408, 0.064151, -0.031188],\n",
    "    [-0.063506, 0.064909, -0.025958],\n",
    "    [-0.075357, 0.064210, -0.024220],\n",
    "]) - cude_center\n",
    "face_vertices = face_vertices / cube_size\n",
    "vertices = np.concatenate([unit_cube_vertices, face_vertices], axis=0)\n",
    "triangles = np.concatenate([unit_cube_triangles, np.array([[8,9,10]])], axis=0)\n",
    "viewer(vertices, triangles).show()"
   ]
  }
 ],
 "metadata": {
  "kernelspec": {
   "display_name": "DAS",
   "language": "python",
   "name": "python3"
  },
  "language_info": {
   "codemirror_mode": {
    "name": "ipython",
    "version": 3
   },
   "file_extension": ".py",
   "mimetype": "text/x-python",
   "name": "python",
   "nbconvert_exporter": "python",
   "pygments_lexer": "ipython3",
   "version": "3.7.13 (default, Mar 29 2022, 02:18:16) \n[GCC 7.5.0]"
  },
  "orig_nbformat": 4,
  "vscode": {
   "interpreter": {
    "hash": "f3853af356329710422b6d63fde47fcd094805714b19e924af01a796710f0447"
   }
  }
 },
 "nbformat": 4,
 "nbformat_minor": 2
}
