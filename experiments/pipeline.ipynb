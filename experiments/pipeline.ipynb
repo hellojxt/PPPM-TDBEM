{
 "cells": [
  {
   "cell_type": "code",
   "execution_count": 2,
   "metadata": {},
   "outputs": [
    {
     "name": "stdout",
     "output_type": "stream",
     "text": [
      "original mesh data\n",
      "vertices:  (18370, 3)\n",
      "faces:  (36736, 3)\n",
      "bbox_min:  [-0.07172556 -0.03272797 -0.07172596]\n",
      "bbox_max:  [0.07172556 0.02840117 0.0717259 ]\n",
      "target cell_size:  0.0047817284295000005\n"
     ]
    }
   ],
   "source": [
    "import sys\n",
    "sys.path.append('../python_scripts')\n",
    "import pymesh\n",
    "import numpy as np\n",
    "import logging, sys\n",
    "logging.disable(sys.maxsize)\n",
    "dirname = \"/home/jxt/PPPM-TDBEM/dataset/acoustic/bowl\"\n",
    "from fem import FEMmodel, Material, MatSet, LOBPCG_solver, SoundObj\n",
    "from visulize import viewer\n",
    "obj = SoundObj(dirname)"
   ]
  },
  {
   "cell_type": "code",
   "execution_count": 3,
   "metadata": {},
   "outputs": [
    {
     "name": "stdout",
     "output_type": "stream",
     "text": [
      "tetrahedralized mesh data\n",
      "vertices:  (3943, 3)\n",
      "faces:  (7262, 3)\n",
      "voxels:  (12190, 4)\n"
     ]
    }
   ],
   "source": [
    "obj.tetrahedralize()\n",
    "obj.modal_analysis(k=200, material=Material(MatSet.Plastic))"
   ]
  },
  {
   "cell_type": "code",
   "execution_count": 4,
   "metadata": {},
   "outputs": [
    {
     "name": "stdout",
     "output_type": "stream",
     "text": [
      "[ 626.7924  628.4471 1304.4629 1312.1744 2177.8728 2178.756  2405.2095\n",
      " 2590.5713 2590.7432 3091.8445 3204.2021 3232.3904 3536.2183 3536.4412\n",
      " 3821.0776 3824.557  4046.3267 4055.0254 4239.7773 4243.33  ]\n"
     ]
    },
    {
     "data": {
      "application/vnd.jupyter.widget-view+json": {
       "model_id": "efd1ef35bd924ba79b629025ae12a38e",
       "version_major": 2,
       "version_minor": 0
      },
      "text/plain": [
       "Box(children=(Box(children=(IntSlider(value=0, description='Mode Index', layout=Layout(flex='3 1 auto'), max=1…"
      ]
     },
     "metadata": {},
     "output_type": "display_data"
    }
   ],
   "source": [
    "obj.show_frequencys(num=20)\n",
    "obj.visualize_modes(viewer, num=200)"
   ]
  },
  {
   "cell_type": "code",
   "execution_count": 5,
   "metadata": {},
   "outputs": [
    {
     "name": "stdout",
     "output_type": "stream",
     "text": [
      "(3943, 3)\n",
      "(12190, 4)\n",
      "(200,)\n",
      "(11829, 200)\n"
     ]
    }
   ],
   "source": [
    "vertices = obj.tet_mesh.vertices\n",
    "tets = obj.tet_mesh.voxels\n",
    "print(vertices.shape)\n",
    "print(tets.shape)\n",
    "print(obj.eigenvalues.shape)\n",
    "print(obj.eigenvectors.shape)\n",
    "np.savetxt(dirname + \"/vertices.txt\", vertices)\n",
    "np.savetxt(dirname + \"/tets.txt\", tets.astype(int))\n",
    "np.savetxt(dirname + \"/eigenvalues.txt\", obj.eigenvalues)\n",
    "np.savetxt(dirname + \"/eigenvectors.txt\", obj.eigenvectors)"
   ]
  },
  {
   "cell_type": "code",
   "execution_count": 6,
   "metadata": {},
   "outputs": [
    {
     "name": "stderr",
     "output_type": "stream",
     "text": [
      "pybullet build time: May 20 2022 19:43:01\n",
      "EGL device choice: -1 of 3.\n"
     ]
    },
    {
     "name": "stdout",
     "output_type": "stream",
     "text": [
      "Loaded EGL 1.5 after reload.\n",
      "GL_VENDOR=NVIDIA Corporation\n",
      "GL_RENDERER=NVIDIA GeForce RTX 3080 Ti/PCIe/SSE2\n",
      "GL_VERSION=4.6.0 NVIDIA 515.65.01\n",
      "GL_SHADING_LANGUAGE_VERSION=4.60 NVIDIA\n",
      "Version = 4.6.0 NVIDIA 515.65.01\n",
      "Vendor = NVIDIA Corporation\n",
      "Renderer = NVIDIA GeForce RTX 3080 Ti/PCIe/SSE2\n",
      "Generating animation...\n"
     ]
    },
    {
     "name": "stderr",
     "output_type": "stream",
     "text": [
      "  0%|          | 2/30000 [00:00<26:48, 18.65it/s]"
     ]
    },
    {
     "name": "stdout",
     "output_type": "stream",
     "text": [
      "ven = NVIDIA Corporation\n",
      "ven = NVIDIA Corporation\n"
     ]
    },
    {
     "name": "stderr",
     "output_type": "stream",
     "text": [
      "100%|██████████| 30000/30000 [00:05<00:00, 5838.61it/s]\n"
     ]
    },
    {
     "name": "stdout",
     "output_type": "stream",
     "text": [
      "post processing contact forces....\n"
     ]
    },
    {
     "name": "stderr",
     "output_type": "stream",
     "text": [
      "100%|██████████| 30000/30000 [00:01<00:00, 17830.66it/s]\n"
     ]
    }
   ],
   "source": [
    "from physical import PhysicalAnimation\n",
    "import pybullet as p\n",
    "anim = PhysicalAnimation(dirname)\n",
    "anim.generate()\n",
    "anim.post_process_contacts()"
   ]
  },
  {
   "cell_type": "code",
   "execution_count": 7,
   "metadata": {},
   "outputs": [
    {
     "name": "stderr",
     "output_type": "stream",
     "text": [
      "100%|██████████| 34208/34208 [00:00<00:00, 64854.99it/s]\n",
      "100%|██████████| 200/200 [00:00<00:00, 333.79it/s]\n"
     ]
    }
   ],
   "source": [
    "SR = 44100\n",
    "from tqdm import tqdm\n",
    "import scipy.signal\n",
    "from audio import save_audio, show_audio, IIR\n",
    "sound_signal = np.zeros(int(anim.time_length * SR))\n",
    "f = np.zeros((len(obj.eigenvalues), len(sound_signal)))\n",
    "for contact in tqdm(anim.contact):\n",
    "    t = int(contact[0] * SR)\n",
    "    vertex_id = int(contact[1])\n",
    "    force_direction = contact[2:5]\n",
    "    impulse = contact[5] * (obj.eigenvectors[vertex_id*3, :] * force_direction[0] +\n",
    "                             obj.eigenvectors[vertex_id*3+1, :] * force_direction[1] +\n",
    "                             obj.eigenvectors[vertex_id*3+2, :] * force_direction[2])\n",
    "    f[:, t] += impulse\n",
    "# smooth force \n",
    "filter_width = 21\n",
    "coeffs = np.sin(np.linspace(0, np.pi, filter_width))\n",
    "coeffs /= np.sum(coeffs)\n",
    "filter = np.zeros((len(obj.eigenvalues), len(sound_signal)))\n",
    "for mode_idx in tqdm(range(len(obj.eigenvalues))):\n",
    "    filter[mode_idx, :] = scipy.signal.convolve(f[mode_idx, :], coeffs, mode='same')\n",
    "f = filter\n",
    "\n",
    "for mode_idx in range(200):\n",
    "    sound_signal += IIR(f[mode_idx], obj.eigenvalues[mode_idx], obj.fem_model.material.alpha, obj.fem_model.material.beta, 1/SR)\n",
    "\n",
    "# get acceleration\n",
    "sound_signal = np.diff(sound_signal, n=2)\n",
    "save_audio(sound_signal, SR, dirname + \"/sound.wav\")"
   ]
  },
  {
   "cell_type": "code",
   "execution_count": 8,
   "metadata": {},
   "outputs": [
    {
     "data": {
      "text/html": [
       "<video src=\"/home/jxt/PPPM-TDBEM/dataset/acoustic/bowl/animation+sound.mp4\" controls  >\n",
       "      Your browser does not support the <code>video</code> element.\n",
       "    </video>"
      ],
      "text/plain": [
       "<IPython.core.display.Video object>"
      ]
     },
     "execution_count": 8,
     "metadata": {},
     "output_type": "execute_result"
    }
   ],
   "source": [
    "import subprocess\n",
    "from IPython.display import Video\n",
    "video_name = dirname + '/animation.mp4'\n",
    "audio_name = dirname + '/sound.wav'\n",
    "output_name = dirname + '/animation+sound.mp4'\n",
    "subprocess.run(['ffmpeg', '-hide_banner', '-loglevel', 'error', '-i', video_name, '-i', audio_name, '-c:v', 'copy', '-c:a', 'libvorbis', '-f', 'mp4', output_name, '-y'])\n",
    "Video(output_name)"
   ]
  },
  {
   "cell_type": "code",
   "execution_count": 9,
   "metadata": {},
   "outputs": [
    {
     "name": "stderr",
     "output_type": "stream",
     "text": [
      "/home/jxt/PPPM-TDBEM/dataset/acoustic/bowl/output/pppm/result.wav: No such file or directory\n"
     ]
    },
    {
     "ename": "ValueError",
     "evalue": "To embed videos, you must pass embed=True (this may make your notebook files huge)\nConsider passing Video(url='...')",
     "output_type": "error",
     "traceback": [
      "\u001b[0;31m---------------------------------------------------------------------------\u001b[0m",
      "\u001b[0;31mValueError\u001b[0m                                Traceback (most recent call last)",
      "\u001b[0;32m/tmp/ipykernel_267226/1888925291.py\u001b[0m in \u001b[0;36m<module>\u001b[0;34m\u001b[0m\n\u001b[1;32m      5\u001b[0m \u001b[0moutput_name\u001b[0m \u001b[0;34m=\u001b[0m \u001b[0mdirname\u001b[0m \u001b[0;34m+\u001b[0m \u001b[0;34m'/output/pppm/animation+sound.mp4'\u001b[0m\u001b[0;34m\u001b[0m\u001b[0;34m\u001b[0m\u001b[0m\n\u001b[1;32m      6\u001b[0m \u001b[0msubprocess\u001b[0m\u001b[0;34m.\u001b[0m\u001b[0mrun\u001b[0m\u001b[0;34m(\u001b[0m\u001b[0;34m[\u001b[0m\u001b[0;34m'ffmpeg'\u001b[0m\u001b[0;34m,\u001b[0m \u001b[0;34m'-hide_banner'\u001b[0m\u001b[0;34m,\u001b[0m \u001b[0;34m'-loglevel'\u001b[0m\u001b[0;34m,\u001b[0m \u001b[0;34m'error'\u001b[0m\u001b[0;34m,\u001b[0m \u001b[0;34m'-i'\u001b[0m\u001b[0;34m,\u001b[0m \u001b[0mvideo_name\u001b[0m\u001b[0;34m,\u001b[0m \u001b[0;34m'-i'\u001b[0m\u001b[0;34m,\u001b[0m \u001b[0maudio_name\u001b[0m\u001b[0;34m,\u001b[0m \u001b[0;34m'-c:v'\u001b[0m\u001b[0;34m,\u001b[0m \u001b[0;34m'copy'\u001b[0m\u001b[0;34m,\u001b[0m \u001b[0;34m'-c:a'\u001b[0m\u001b[0;34m,\u001b[0m \u001b[0;34m'libvorbis'\u001b[0m\u001b[0;34m,\u001b[0m \u001b[0;34m'-f'\u001b[0m\u001b[0;34m,\u001b[0m \u001b[0;34m'mp4'\u001b[0m\u001b[0;34m,\u001b[0m \u001b[0moutput_name\u001b[0m\u001b[0;34m,\u001b[0m \u001b[0;34m'-y'\u001b[0m\u001b[0;34m]\u001b[0m\u001b[0;34m)\u001b[0m\u001b[0;34m\u001b[0m\u001b[0;34m\u001b[0m\u001b[0m\n\u001b[0;32m----> 7\u001b[0;31m \u001b[0mVideo\u001b[0m\u001b[0;34m(\u001b[0m\u001b[0moutput_name\u001b[0m\u001b[0;34m)\u001b[0m\u001b[0;34m\u001b[0m\u001b[0;34m\u001b[0m\u001b[0m\n\u001b[0m",
      "\u001b[0;32m~/anaconda3/envs/DAS/lib/python3.7/site-packages/IPython/core/display.py\u001b[0m in \u001b[0;36m__init__\u001b[0;34m(self, data, url, filename, embed, mimetype, width, height, html_attributes)\u001b[0m\n\u001b[1;32m   1408\u001b[0m                 \u001b[0;34m\"Consider passing Video(url='...')\"\u001b[0m\u001b[0;34m,\u001b[0m\u001b[0;34m\u001b[0m\u001b[0;34m\u001b[0m\u001b[0m\n\u001b[1;32m   1409\u001b[0m             ])\n\u001b[0;32m-> 1410\u001b[0;31m             \u001b[0;32mraise\u001b[0m \u001b[0mValueError\u001b[0m\u001b[0;34m(\u001b[0m\u001b[0mmsg\u001b[0m\u001b[0;34m)\u001b[0m\u001b[0;34m\u001b[0m\u001b[0;34m\u001b[0m\u001b[0m\n\u001b[0m\u001b[1;32m   1411\u001b[0m \u001b[0;34m\u001b[0m\u001b[0m\n\u001b[1;32m   1412\u001b[0m         \u001b[0mself\u001b[0m\u001b[0;34m.\u001b[0m\u001b[0mmimetype\u001b[0m \u001b[0;34m=\u001b[0m \u001b[0mmimetype\u001b[0m\u001b[0;34m\u001b[0m\u001b[0;34m\u001b[0m\u001b[0m\n",
      "\u001b[0;31mValueError\u001b[0m: To embed videos, you must pass embed=True (this may make your notebook files huge)\nConsider passing Video(url='...')"
     ]
    }
   ],
   "source": [
    "import subprocess\n",
    "from IPython.display import Video\n",
    "video_name = dirname + '/animation.mp4'\n",
    "audio_name = dirname + '/output/pppm/result.wav'\n",
    "output_name = dirname + '/output/pppm/animation+sound.mp4'\n",
    "subprocess.run(['ffmpeg', '-hide_banner', '-loglevel', 'error', '-i', video_name, '-i', audio_name, '-c:v', 'copy', '-c:a', 'libvorbis', '-f', 'mp4', output_name, '-y'])\n",
    "Video(output_name)"
   ]
  },
  {
   "cell_type": "code",
   "execution_count": null,
   "metadata": {},
   "outputs": [],
   "source": [
    "# import subprocess\n",
    "# from IPython.display import Video\n",
    "# video_name = dirname + '/animation.mp4'\n",
    "# audio_name = dirname + '/output/ghost/result.wav'\n",
    "# output_name = dirname + '/output/ghost/animation+sound.mp4'\n",
    "# subprocess.run(['ffmpeg', '-hide_banner', '-loglevel', 'error', '-i', video_name, '-i', audio_name, '-c:v', 'copy', '-c:a', 'libvorbis', '-f', 'mp4', output_name, '-y'])\n",
    "# Video(output_name)"
   ]
  }
 ],
 "metadata": {
  "kernelspec": {
   "display_name": "DAS",
   "language": "python",
   "name": "python3"
  },
  "language_info": {
   "codemirror_mode": {
    "name": "ipython",
    "version": 3
   },
   "file_extension": ".py",
   "mimetype": "text/x-python",
   "name": "python",
   "nbconvert_exporter": "python",
   "pygments_lexer": "ipython3",
   "version": "3.7.13"
  },
  "orig_nbformat": 4,
  "vscode": {
   "interpreter": {
    "hash": "f3853af356329710422b6d63fde47fcd094805714b19e924af01a796710f0447"
   }
  }
 },
 "nbformat": 4,
 "nbformat_minor": 2
}
