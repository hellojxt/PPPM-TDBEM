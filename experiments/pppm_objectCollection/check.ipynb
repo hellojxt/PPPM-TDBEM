{
       "cells": [
              {
                     "cell_type": "code",
                     "execution_count": 1,
                     "metadata": {},
                     "outputs": [],
                     "source": [
                            "import sys\n",
                            "sys.path.append('../../python_scripts')\n",
                            "from visulize import viewer\n",
                            "from audio import show_audio, IIR, save_audio\n",
                            "import numpy as np\n",
                            "import meshio\n",
                            "import matplotlib.pyplot as plt\n",
                            "import os\n",
                            "# check the mesh and modes\n",
                            "\n",
                            "def process_dir(output_dir):\n",
                            "    ret = None\n",
                            "    if os.path.exists(output_dir + 'origin.txt'):\n",
                            "        y = np.loadtxt(output_dir + 'origin.txt')\n",
                            "        sr = int(y[0])\n",
                            "        y = y[1:]\n",
                            "        y /= abs(y).max()\n",
                            "        save_audio(y, sr, output_dir + 'origin.wav')\n",
                            "\n",
                            "    if os.path.exists(output_dir + 'result.txt'):\n",
                            "        y = np.loadtxt(output_dir + 'result.txt')\n",
                            "        sr = int(y[0])\n",
                            "        y = y[1:]\n",
                            "        y /= abs(y).max()\n",
                            "        save_audio(y, sr, output_dir + 'result.wav')\n",
                            "\n",
                            "    if os.path.exists(output_dir + 'signal.txt'):\n",
                            "        y = np.loadtxt(output_dir + 'signal.txt')\n",
                            "        sr = int(y[0])\n",
                            "        y = y[1:]\n",
                            "        y /= abs(y).max()\n",
                            "        save_audio(y, sr, output_dir + 'signal.wav')\n",
                            "\n",
                            "    if os.path.exists(output_dir + 'modes.txt'):\n",
                            "        mesh = meshio.read(output_dir + 'surface.obj')\n",
                            "        vertices = mesh.points\n",
                            "        vertices -= vertices.mean(axis=0)\n",
                            "        elements = mesh.cells[0].data\n",
                            "        data = np.loadtxt(output_dir + 'modes.txt')\n",
                            "        ret = viewer(vertices, elements, data).show()\n",
                            "    return ret"
                     ]
              },
              {
                     "cell_type": "code",
                     "execution_count": 5,
                     "metadata": {},
                     "outputs": [
                            {
                                   "data": {
                                          "application/vnd.jupyter.widget-view+json": {
                                                 "model_id": "c9fbe64c105d45bc92878b2cbb7d3e8f",
                                                 "version_major": 2,
                                                 "version_minor": 0
                                          },
                                          "text/plain": [
                                                 "Box(children=(Box(children=(IntSlider(value=0, description='Mode Index', layout=Layout(flex='3 1 auto'), max=1…"
                                          ]
                                   },
                                   "metadata": {},
                                   "output_type": "display_data"
                            }
                     ],
                     "source": [
                            "dirname = '/home/jiaming/Self/PPPM-github/PPPM-TDBEM/dataset/total/output/pppm/'\n",
                            "process_dir(dirname)"
                     ]
              }
       ],
       "metadata": {
              "kernelspec": {
                     "display_name": "Python 3",
                     "language": "python",
                     "name": "python3"
              },
              "language_info": {
                     "codemirror_mode": {
                            "name": "ipython",
                            "version": 3
                     },
                     "file_extension": ".py",
                     "mimetype": "text/x-python",
                     "name": "python",
                     "nbconvert_exporter": "python",
                     "pygments_lexer": "ipython3",
                     "version": "3.8.10"
              },
              "orig_nbformat": 4,
              "vscode": {
                     "interpreter": {
                            "hash": "916dbcbb3f70747c44a77c7bcd40155683ae19c65e1c03b4aa3499c5328201f1"
                     }
              }
       },
       "nbformat": 4,
       "nbformat_minor": 2
}
