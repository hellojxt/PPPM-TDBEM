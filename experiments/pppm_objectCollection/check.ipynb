{
       "cells": [
              {
                     "cell_type": "code",
                     "execution_count": 2,
                     "metadata": {},
                     "outputs": [],
                     "source": [
                            "import sys\n",
                            "sys.path.append('../../python_scripts')\n",
                            "from visulize import viewer\n",
                            "from audio import show_audio, IIR, save_audio\n",
                            "import numpy as np\n",
                            "import meshio\n",
                            "import matplotlib.pyplot as plt\n",
                            "import os\n",
                            "# check the mesh and modes\n",
                            "output_dir = '/home/jxt/PPPM-TDBEM/demo/pourwater/output'\n",
                            "y = np.loadtxt(output_dir + '/result.txt')\n",
                            "sr = int(y[0])\n",
                            "y = y[1:]\n",
                            "y /= abs(y).max()\n",
                            "save_audio(y, sr, output_dir + '/result.wav')"
                     ]
              }
       ],
       "metadata": {
              "kernelspec": {
                     "display_name": "DAS",
                     "language": "python",
                     "name": "python3"
              },
              "language_info": {
                     "codemirror_mode": {
                            "name": "ipython",
                            "version": 3
                     },
                     "file_extension": ".py",
                     "mimetype": "text/x-python",
                     "name": "python",
                     "nbconvert_exporter": "python",
                     "pygments_lexer": "ipython3",
                     "version": "3.7.13"
              },
              "orig_nbformat": 4,
              "vscode": {
                     "interpreter": {
                            "hash": "f3853af356329710422b6d63fde47fcd094805714b19e924af01a796710f0447"
                     }
              }
       },
       "nbformat": 4,
       "nbformat_minor": 2
}
