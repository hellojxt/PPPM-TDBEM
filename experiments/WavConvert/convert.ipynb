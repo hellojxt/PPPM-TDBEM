{
 "cells": [
  {
   "cell_type": "code",
   "execution_count": 1,
   "metadata": {},
   "outputs": [],
   "source": [
    "import numpy as np\n",
    "from  scipy.signal import resample\n",
    "from scipy.io.wavfile import read"
   ]
  },
  {
   "cell_type": "code",
   "execution_count": 7,
   "metadata": {},
   "outputs": [],
   "source": [
    "def WavToSoundAcc(wavPath, outPath):\n",
    "    sampleRate, soundAcc = read(wavPath)\n",
    "    soundAcc = soundAcc.astype('float32')\n",
    "    if sampleRate != 44100:\n",
    "        soundAcc = resample(soundAcc, int(len(soundAcc) * 44100 / sampleRate))\n",
    "\n",
    "    soundAcc /= np.abs(soundAcc).max()\n",
    "    # resample to 44100\n",
    "    np.savetxt(outPath, soundAcc)"
   ]
  },
  {
   "cell_type": "code",
   "execution_count": 6,
   "metadata": {},
   "outputs": [],
   "source": [
    "wavPath = \"/home/jiaming/Self/PPPM-github/PPPM-TDBEM/dataset/bowl/sound.wav\"\n",
    "outPath = \"/home/jiaming/Self/PPPM-github/PPPM-TDBEM/dataset/bowl/accs.txt\"\n",
    "WavToSoundAcc(wavPath, outPath)"
   ]
  }
 ],
 "metadata": {
  "kernelspec": {
   "display_name": "Python 3",
   "language": "python",
   "name": "python3"
  },
  "language_info": {
   "codemirror_mode": {
    "name": "ipython",
    "version": 3
   },
   "file_extension": ".py",
   "mimetype": "text/x-python",
   "name": "python",
   "nbconvert_exporter": "python",
   "pygments_lexer": "ipython3",
   "version": "3.8.10"
  },
  "orig_nbformat": 4,
  "vscode": {
   "interpreter": {
    "hash": "916dbcbb3f70747c44a77c7bcd40155683ae19c65e1c03b4aa3499c5328201f1"
   }
  }
 },
 "nbformat": 4,
 "nbformat_minor": 2
}
