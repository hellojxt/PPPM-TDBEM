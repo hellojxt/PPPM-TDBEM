{
 "cells": [
  {
   "cell_type": "code",
   "execution_count": 1,
   "metadata": {},
   "outputs": [],
   "source": [
    "import numpy as np\n",
    "from  scipy.signal import resample\n",
    "from scipy.io.wavfile import read"
   ]
  },
  {
   "cell_type": "code",
   "execution_count": 2,
   "metadata": {},
   "outputs": [],
   "source": [
    "def WavToSoundAcc(wavPath, outPath):\n",
    "    sampleRate, soundAcc = read(wavPath)\n",
    "    soundAcc = soundAcc.astype('float32')\n",
    "    if sampleRate != 44100:\n",
    "        soundAcc = resample(soundAcc, int(len(soundAcc) * 44100 / sampleRate))\n",
    "    print(soundAcc.shape)\n",
    "    if (soundAcc.shape[1] > 1):\n",
    "        soundAcc = soundAcc[:, 0] + soundAcc[:, 1]\n",
    "    soundAcc /= np.abs(soundAcc).max()\n",
    "    # resample to 44100\n",
    "    np.savetxt(outPath, soundAcc)"
   ]
  },
  {
   "cell_type": "code",
   "execution_count": 3,
   "metadata": {},
   "outputs": [
    {
     "name": "stderr",
     "output_type": "stream",
     "text": [
      "/home/jxt/anaconda3/envs/DAS/lib/python3.7/site-packages/ipykernel_launcher.py:2: WavFileWarning: Chunk (non-data) not understood, skipping it.\n",
      "  \n"
     ]
    },
    {
     "name": "stdout",
     "output_type": "stream",
     "text": [
      "(534290, 2)\n"
     ]
    }
   ],
   "source": [
    "wavPath = \"/home/jxt/PPPM-TDBEM/demo/pourwater/water/pouring_water_12s.wav\"\n",
    "outPath = \"/home/jxt/PPPM-TDBEM/demo/pourwater/water/accs.txt\"\n",
    "WavToSoundAcc(wavPath, outPath) "
   ]
  }
 ],
 "metadata": {
  "kernelspec": {
   "display_name": "DAS",
   "language": "python",
   "name": "python3"
  },
  "language_info": {
   "codemirror_mode": {
    "name": "ipython",
    "version": 3
   },
   "file_extension": ".py",
   "mimetype": "text/x-python",
   "name": "python",
   "nbconvert_exporter": "python",
   "pygments_lexer": "ipython3",
   "version": "3.7.13"
  },
  "orig_nbformat": 4,
  "vscode": {
   "interpreter": {
    "hash": "f3853af356329710422b6d63fde47fcd094805714b19e924af01a796710f0447"
   }
  }
 },
 "nbformat": 4,
 "nbformat_minor": 2
}
