{
 "cells": [
  {
   "cell_type": "code",
   "execution_count": 22,
   "metadata": {},
   "outputs": [],
   "source": [
    "import numpy as np\n",
    "from glob import glob\n",
    "import matplotlib.pyplot as plt\n",
    "\n",
    "def SNR(ground_truth, prediction):\n",
    "    return np.mean(ground_truth ** 2) / np.mean((ground_truth - prediction) ** 2)\n",
    "\n",
    "\n",
    "output_dir = \"../../dataset/static/bunny/output/\"\n",
    "sub_dirs = glob(output_dir + \"0.*\")\n",
    "sub_dirs = sorted(sub_dirs, key=lambda x: float(x.split(\"/\")[-1]))\n",
    "grid_size_list = [float(x.split(\"/\")[-1]) for x in sub_dirs]\n",
    "method_list = ['pppm', 'groundtruth', 'ghostcell1', 'ghostcell2']\n",
    "for sub_dir, grid_size in zip(sub_dirs, grid_size_list):\n",
    "    for method in method_list:\n",
    "        ffat_file_list = glob(sub_dir + \"/\" + method + \"/ffat*.txt\")\n",
    "        for ffat_file in ffat_file_list:\n",
    "            data = np.loadtxt(ffat_file)\n",
    "            ffat_size = int((len(data)/6)**0.5)\n",
    "            ffat = data.reshape((6*ffat_size, ffat_size))\n",
    "            # save the ffat as a png file\n",
    "            plt.figure(figsize=(30, 5))\n",
    "            plt.imshow((ffat / np.max(ffat)).T, cmap='gray')\n",
    "            plt.savefig(ffat_file.replace(\".txt\", \".png\"))\n",
    "            # clear the figure\n",
    "            plt.clf()\n",
    "            plt.close()\n"
   ]
  }
 ],
 "metadata": {
  "kernelspec": {
   "display_name": "DAS",
   "language": "python",
   "name": "python3"
  },
  "language_info": {
   "codemirror_mode": {
    "name": "ipython",
    "version": 3
   },
   "file_extension": ".py",
   "mimetype": "text/x-python",
   "name": "python",
   "nbconvert_exporter": "python",
   "pygments_lexer": "ipython3",
   "version": "3.7.13"
  },
  "orig_nbformat": 4,
  "vscode": {
   "interpreter": {
    "hash": "f3853af356329710422b6d63fde47fcd094805714b19e924af01a796710f0447"
   }
  }
 },
 "nbformat": 4,
 "nbformat_minor": 2
}
