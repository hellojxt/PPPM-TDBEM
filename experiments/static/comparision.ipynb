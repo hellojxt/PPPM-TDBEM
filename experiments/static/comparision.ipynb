{
 "cells": [
  {
   "cell_type": "code",
   "execution_count": 3,
   "metadata": {},
   "outputs": [
    {
     "name": "stdout",
     "output_type": "stream",
     "text": [
      "0.008 pppm 2174.8129009499567\n",
      "0.008 ghostcell1 2445.737352548103\n",
      "0.008 ghostcell2 4056.7847698317687\n",
      "0.01 pppm 2725.9502721523663\n",
      "0.01 ghostcell1 704.1865587512771\n",
      "0.01 ghostcell2 2743.1871636062233\n",
      "0.012 pppm 1780.0912267361873\n",
      "0.012 ghostcell1 455.274774041922\n",
      "0.012 ghostcell2 1550.9742366333724\n",
      "0.014 pppm 1601.231747237218\n",
      "0.014 ghostcell1 890.4948917484127\n",
      "0.014 ghostcell2 43.321908690768986\n",
      "0.016 pppm 1262.6199541739088\n",
      "0.016 ghostcell1 347.4840086454728\n",
      "0.016 ghostcell2 962.3897902939719\n",
      "0.018 pppm 1124.1401971804523\n",
      "0.018 ghostcell1 849.1075893319666\n",
      "0.018 ghostcell2 701.4983229924372\n",
      "0.02 pppm 873.9114514483439\n",
      "0.02 ghostcell1 378.35138842934543\n",
      "0.02 ghostcell2 844.3216468456374\n",
      "0.022 pppm 853.4596699606245\n",
      "0.022 ghostcell1 357.443273125227\n",
      "0.022 ghostcell2 28.333182224043252\n",
      "0.024 pppm 642.741140112805\n",
      "0.024 ghostcell1 113.13817877904255\n",
      "0.024 ghostcell2 201.97177141785008\n",
      "0.026 pppm 556.8078569237706\n",
      "0.026 ghostcell1 244.07826268509126\n",
      "0.026 ghostcell2 341.1848615086312\n"
     ]
    }
   ],
   "source": [
    "import numpy as np\n",
    "from glob import glob\n",
    "import matplotlib.pyplot as plt\n",
    "\n",
    "def SNR(ground_truth, prediction):\n",
    "    return np.mean(ground_truth ** 2) / np.mean((ground_truth - prediction) ** 2)\n",
    "\n",
    "\n",
    "output_dir = \"../../dataset/static/letterT/output/\"\n",
    "sub_dirs = glob(output_dir + \"0.*\")\n",
    "sub_dirs = sorted(sub_dirs, key=lambda x: float(x.split(\"/\")[-1]))\n",
    "grid_size_list = [float(x.split(\"/\")[-1]) for x in sub_dirs]\n",
    "method_list = ['pppm', 'groundtruth', 'ghostcell1', 'ghostcell2']\n",
    "for sub_dir, grid_size in zip(sub_dirs, grid_size_list):\n",
    "    method_data = {}\n",
    "    for method in method_list:\n",
    "        method_data[method] = np.zeros(0)\n",
    "        ffat_file_list = glob(sub_dir + \"/\" + method + \"/ffat*.txt\")\n",
    "        for ffat_file in ffat_file_list:\n",
    "            data = np.loadtxt(ffat_file).reshape(-1)\n",
    "            data = data / ((data**2).sum()**0.5)\n",
    "            method_data[method] = np.append(method_data[method], data)\n",
    "    gt = method_data['groundtruth']\n",
    "    for method in method_list:\n",
    "        if method == 'groundtruth':\n",
    "            continue\n",
    "        print(grid_size, method, SNR(gt, method_data[method]))"
   ]
  }
 ],
 "metadata": {
  "kernelspec": {
   "display_name": "DAS",
   "language": "python",
   "name": "python3"
  },
  "language_info": {
   "codemirror_mode": {
    "name": "ipython",
    "version": 3
   },
   "file_extension": ".py",
   "mimetype": "text/x-python",
   "name": "python",
   "nbconvert_exporter": "python",
   "pygments_lexer": "ipython3",
   "version": "3.7.13"
  },
  "orig_nbformat": 4,
  "vscode": {
   "interpreter": {
    "hash": "f3853af356329710422b6d63fde47fcd094805714b19e924af01a796710f0447"
   }
  }
 },
 "nbformat": 4,
 "nbformat_minor": 2
}
