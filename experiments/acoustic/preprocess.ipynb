{
 "cells": [
  {
   "cell_type": "code",
   "execution_count": 1,
   "metadata": {},
   "outputs": [
    {
     "name": "stdout",
     "output_type": "stream",
     "text": [
      "original mesh data\n",
      "vertices:  (3100, 3)\n",
      "faces:  (6212, 3)\n",
      "bbox_min:  [ 0.035406 -1.440648 -0.312037]\n",
      "bbox_max:  [ 1.690934 -0.788858  0.732711]\n",
      "target cell_size:  0.05518426666666666\n"
     ]
    }
   ],
   "source": [
    "import sys\n",
    "sys.path.append('../../python_scripts')\n",
    "import pymesh\n",
    "import numpy as np\n",
    "import logging, sys\n",
    "logging.disable(sys.maxsize)\n",
    "dirname = \"/home/jxt/PPPM-TDBEM/dataset/acoustic/tyra\"\n",
    "from fem import FEMmodel, Material, MatSet, LOBPCG_solver, SoundObj\n",
    "from visulize import viewer\n",
    "obj = SoundObj(dirname)\n",
    "mode_num = 30"
   ]
  },
  {
   "cell_type": "code",
   "execution_count": 2,
   "metadata": {},
   "outputs": [
    {
     "name": "stdout",
     "output_type": "stream",
     "text": [
      "Delaunizing vertices...\n",
      "Delaunay seconds:  0.071054\n",
      "Creating surface mesh ...\n",
      "Surface mesh seconds:  0.008147\n",
      "Constrained Delaunay...\n",
      "Constrained Delaunay seconds:  0.009634\n",
      "Removing exterior tetrahedra ...\n",
      "Exterior tets removal seconds:  0.005795\n",
      "Refining mesh...\n",
      "Refinement seconds:  0.456897\n",
      "Optimizing mesh...\n",
      "Optimization seconds:  0.020416\n",
      "\n",
      "Writing nodes.\n",
      "Writing elements.\n",
      "Writing faces.\n",
      "Writing edges.\n",
      "\n",
      "Output seconds:  0.003941\n",
      "Total running seconds:  0.576812\n",
      "\n",
      "Statistics:\n",
      "\n",
      "  Input points: 3100\n",
      "  Input facets: 6212\n",
      "  Input segments: 9196\n",
      "  Input holes: 0\n",
      "  Input regions: 0\n",
      "\n",
      "  Mesh points: 11861\n",
      "  Mesh tetrahedra: 40361\n",
      "  Mesh faces: 90584\n",
      "  Mesh faces on facets: 19724\n",
      "  Mesh edges on segments: 15920\n",
      "  Steiner points inside domain: 2006\n",
      "  Steiner points on facets:  31\n",
      "  Steiner points on segments:  6724\n",
      "\n",
      "tetrahedralized mesh data\n",
      "vertices:  (11861, 3)\n",
      "faces:  (19724, 3)\n",
      "voxels:  (40361, 4)\n"
     ]
    }
   ],
   "source": [
    "obj.tetrahedralize('tetgen')\n",
    "obj.modal_analysis(k=mode_num, material=Material(MatSet.Wood))"
   ]
  },
  {
   "cell_type": "code",
   "execution_count": 3,
   "metadata": {},
   "outputs": [
    {
     "name": "stdout",
     "output_type": "stream",
     "text": [
      "[ 434.14148  441.59482  492.09833  483.86884  561.2445   472.8679\n",
      "  568.2303   624.9483   809.20013  781.19086  701.6928   936.1684\n",
      " 1035.0026   722.3703  1070.4213  1090.8234  1181.4736  1273.7411\n",
      " 1423.1066  1550.2548 ]\n"
     ]
    },
    {
     "data": {
      "application/vnd.jupyter.widget-view+json": {
       "model_id": "138f94b20ac14f0e82b68808686e1a3c",
       "version_major": 2,
       "version_minor": 0
      },
      "text/plain": [
       "Box(children=(Box(children=(IntSlider(value=0, description='Mode Index', layout=Layout(flex='3 1 auto'), max=2…"
      ]
     },
     "metadata": {},
     "output_type": "display_data"
    }
   ],
   "source": [
    "obj.show_frequencys(num=20)\n",
    "obj.visualize_modes(viewer, num=mode_num)"
   ]
  },
  {
   "cell_type": "code",
   "execution_count": 4,
   "metadata": {},
   "outputs": [
    {
     "name": "stdout",
     "output_type": "stream",
     "text": [
      "(11861, 3)\n",
      "(40361, 4)\n",
      "(30,)\n",
      "(35583, 30)\n"
     ]
    }
   ],
   "source": [
    "vertices = obj.tet_mesh.vertices\n",
    "tets = obj.tet_mesh.voxels\n",
    "print(vertices.shape)\n",
    "print(tets.shape)\n",
    "print(obj.eigenvalues.shape)\n",
    "print(obj.eigenvectors.shape)\n",
    "np.savetxt(dirname + \"/vertices.txt\", vertices)\n",
    "np.savetxt(dirname + \"/tets.txt\", tets.astype(int))\n",
    "np.savetxt(dirname + \"/eigenvalues.txt\", obj.eigenvalues)\n",
    "np.savetxt(dirname + \"/eigenvectors.txt\", obj.eigenvectors)"
   ]
  },
  {
   "cell_type": "code",
   "execution_count": 5,
   "metadata": {},
   "outputs": [
    {
     "name": "stderr",
     "output_type": "stream",
     "text": [
      "pybullet build time: May 20 2022 19:43:01\n",
      "EGL device choice: -1 of 3.\n"
     ]
    },
    {
     "name": "stdout",
     "output_type": "stream",
     "text": [
      "Loaded EGL 1.5 after reload.\n",
      "GL_VENDOR=NVIDIA Corporation\n",
      "GL_RENDERER=NVIDIA GeForce RTX 3080 Ti/PCIe/SSE2\n",
      "GL_VERSION=4.6.0 NVIDIA 515.65.01\n",
      "GL_SHADING_LANGUAGE_VERSION=4.60 NVIDIA\n",
      "Version = 4.6.0 NVIDIA 515.65.01\n",
      "Vendor = NVIDIA Corporation\n",
      "Renderer = NVIDIA GeForce RTX 3080 Ti/PCIe/SSE2\n",
      "Generating animation...\n"
     ]
    },
    {
     "name": "stderr",
     "output_type": "stream",
     "text": [
      "  1%|          | 168/30000 [00:00<00:27, 1090.21it/s]"
     ]
    },
    {
     "name": "stdout",
     "output_type": "stream",
     "text": [
      "ven = NVIDIA Corporation\n",
      "ven = NVIDIA Corporation\n"
     ]
    },
    {
     "name": "stderr",
     "output_type": "stream",
     "text": [
      "100%|██████████| 30000/30000 [00:03<00:00, 7664.77it/s]\n"
     ]
    },
    {
     "name": "stdout",
     "output_type": "stream",
     "text": [
      "post processing contact forces....\n"
     ]
    },
    {
     "name": "stderr",
     "output_type": "stream",
     "text": [
      "100%|██████████| 30000/30000 [00:03<00:00, 9491.05it/s] \n"
     ]
    }
   ],
   "source": [
    "from physical import PhysicalAnimation\n",
    "import pybullet as p\n",
    "anim = PhysicalAnimation(dirname)\n",
    "anim.generate()\n",
    "anim.post_process_contacts()"
   ]
  }
 ],
 "metadata": {
  "kernelspec": {
   "display_name": "DAS",
   "language": "python",
   "name": "python3"
  },
  "language_info": {
   "codemirror_mode": {
    "name": "ipython",
    "version": 3
   },
   "file_extension": ".py",
   "mimetype": "text/x-python",
   "name": "python",
   "nbconvert_exporter": "python",
   "pygments_lexer": "ipython3",
   "version": "3.7.13"
  },
  "orig_nbformat": 4,
  "vscode": {
   "interpreter": {
    "hash": "f3853af356329710422b6d63fde47fcd094805714b19e924af01a796710f0447"
   }
  }
 },
 "nbformat": 4,
 "nbformat_minor": 2
}
