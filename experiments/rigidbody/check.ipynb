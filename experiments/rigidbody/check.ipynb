{
       "cells": [
              {
                     "cell_type": "code",
                     "execution_count": 9,
                     "metadata": {},
                     "outputs": [],
                     "source": [
                            "import sys\n",
                            "sys.path.append('../../python_scripts')\n",
                            "from visulize import viewer\n",
                            "from audio import show_audio, IIR, save_audio\n",
                            "import numpy as np\n",
                            "import meshio\n",
                            "import matplotlib.pyplot as plt\n",
                            "import os\n",
                            "# check the mesh and modes\n",
                            "\n",
                            "def process_dir(output_dir):\n",
                            "    ret = None\n",
                            "    if os.path.exists(output_dir + 'origin.txt'):\n",
                            "        y = np.loadtxt(output_dir + 'origin.txt')\n",
                            "        sr = int(y[0])\n",
                            "        y = y[1:]\n",
                            "        y /= abs(y).max()\n",
                            "        save_audio(y, sr, output_dir + 'origin.wav')\n",
                            "\n",
                            "    if os.path.exists(output_dir + 'result.txt'):\n",
                            "        y = np.loadtxt(output_dir + 'result.txt')\n",
                            "        sr = int(y[0])\n",
                            "        y = y[1:]\n",
                            "        y /= abs(y).max()\n",
                            "        save_audio(y, sr, output_dir + 'result.wav')\n",
                            "\n",
                            "    if os.path.exists(output_dir + 'signal.txt'):\n",
                            "        y = np.loadtxt(output_dir + 'signal.txt')\n",
                            "        sr = int(y[0])\n",
                            "        y = y[1:]\n",
                            "        y /= abs(y).max()\n",
                            "        save_audio(y, sr, output_dir + 'signal.wav')\n",
                            "\n",
                            "    if os.path.exists(output_dir + 'modes.txt'):\n",
                            "        mesh = meshio.read(output_dir + 'surface.obj')\n",
                            "        vertices = mesh.points\n",
                            "        vertices -= vertices.mean(axis=0)\n",
                            "        elements = mesh.cells[0].data\n",
                            "        data = np.loadtxt(output_dir + 'modes.txt')\n",
                            "        ret = viewer(vertices, elements, data).show()\n",
                            "    return ret"
                     ]
              },
              {
                     "cell_type": "code",
                     "execution_count": 10,
                     "metadata": {},
                     "outputs": [],
                     "source": [
                            "process_dir('./output/spolling_bowl/ghost/')"
                     ]
              },
              {
                     "cell_type": "code",
                     "execution_count": 11,
                     "metadata": {},
                     "outputs": [],
                     "source": [
                            "process_dir('./output/spolling_bowl/pppm/')"
                     ]
              },
              {
                     "cell_type": "code",
                     "execution_count": null,
                     "metadata": {},
                     "outputs": [],
                     "source": []
              }
       ],
       "metadata": {
              "kernelspec": {
                     "display_name": "DAS",
                     "language": "python",
                     "name": "python3"
              },
              "language_info": {
                     "codemirror_mode": {
                            "name": "ipython",
                            "version": 3
                     },
                     "file_extension": ".py",
                     "mimetype": "text/x-python",
                     "name": "python",
                     "nbconvert_exporter": "python",
                     "pygments_lexer": "ipython3",
                     "version": "3.7.13 (default, Mar 29 2022, 02:18:16) \n[GCC 7.5.0]"
              },
              "orig_nbformat": 4,
              "vscode": {
                     "interpreter": {
                            "hash": "f3853af356329710422b6d63fde47fcd094805714b19e924af01a796710f0447"
                     }
              }
       },
       "nbformat": 4,
       "nbformat_minor": 2
}
