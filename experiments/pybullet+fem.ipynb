{
 "cells": [
  {
   "cell_type": "code",
   "execution_count": 6,
   "metadata": {},
   "outputs": [
    {
     "name": "stdout",
     "output_type": "stream",
     "text": [
      "original mesh data\n",
      "vertices:  (18370, 3)\n",
      "faces:  (36736, 3)\n",
      "bbox_min:  [-0.07172556 -0.03272797 -0.07172596]\n",
      "bbox_max:  [0.07172556 0.02840117 0.0717259 ]\n",
      "target cell_size:  0.0047817284295000005\n"
     ]
    }
   ],
   "source": [
    "import sys\n",
    "sys.path.append('../python_scripts')\n",
    "import pymesh\n",
    "import numpy as np\n",
    "import logging, sys\n",
    "logging.disable(sys.maxsize)\n",
    "dirname = \"/home/jxt/PPPM-TDBEM/dataset/bowl\"\n",
    "from fem import FEMmodel, Material, MatSet, LOBPCG_solver, SoundObj\n",
    "from visulize import viewer\n",
    "obj = SoundObj(dirname)"
   ]
  },
  {
   "cell_type": "code",
   "execution_count": 7,
   "metadata": {},
   "outputs": [
    {
     "name": "stdout",
     "output_type": "stream",
     "text": [
      "tetrahedralized mesh data\n",
      "vertices:  (3943, 3)\n",
      "faces:  (7262, 3)\n",
      "voxels:  (12190, 4)\n"
     ]
    }
   ],
   "source": [
    "obj.tetrahedralize()\n",
    "obj.modal_analysis(k=200, material=Material(MatSet.Plastic))"
   ]
  },
  {
   "cell_type": "code",
   "execution_count": 8,
   "metadata": {},
   "outputs": [
    {
     "name": "stdout",
     "output_type": "stream",
     "text": [
      "[ 623.64056  629.6274  1307.8104  1311.197   2177.2021  2177.6624\n",
      " 2401.4448  2587.7415  2591.974   3094.4365  3198.25    3230.5005\n",
      " 3534.5369  3537.3916  3818.568   3823.0872  4044.6372  4054.9875\n",
      " 4236.886   4239.6167 ]\n"
     ]
    },
    {
     "data": {
      "application/vnd.jupyter.widget-view+json": {
       "model_id": "876f387f5a794b49bf3ece831ee240b1",
       "version_major": 2,
       "version_minor": 0
      },
      "text/plain": [
       "Box(children=(Box(children=(IntSlider(value=0, description='Mode Index', layout=Layout(flex='3 1 auto'), max=1…"
      ]
     },
     "metadata": {},
     "output_type": "display_data"
    }
   ],
   "source": [
    "obj.show_frequencys(num=20)\n",
    "obj.visualize_modes(viewer, num=200)"
   ]
  },
  {
   "cell_type": "code",
   "execution_count": 9,
   "metadata": {},
   "outputs": [
    {
     "name": "stdout",
     "output_type": "stream",
     "text": [
      "(3943, 3)\n",
      "(12190, 4)\n",
      "(200,)\n",
      "(11829, 200)\n"
     ]
    }
   ],
   "source": [
    "vertices = obj.tet_mesh.vertices\n",
    "tets = obj.tet_mesh.voxels\n",
    "print(vertices.shape)\n",
    "print(tets.shape)\n",
    "print(obj.eigenvalues.shape)\n",
    "print(obj.eigenvectors.shape)\n",
    "np.savetxt(dirname + \"/vertices.txt\", vertices)\n",
    "np.savetxt(dirname + \"/tets.txt\", tets.astype(int))\n",
    "np.savetxt(dirname + \"/eigenvalues.txt\", obj.eigenvalues)\n",
    "np.savetxt(dirname + \"/eigenvectors.txt\", obj.eigenvectors)"
   ]
  },
  {
   "cell_type": "code",
   "execution_count": 10,
   "metadata": {},
   "outputs": [
    {
     "name": "stdout",
     "output_type": "stream",
     "text": [
      "Generating animation...\n"
     ]
    },
    {
     "name": "stderr",
     "output_type": "stream",
     "text": [
      "  1%|          | 168/30000 [00:00<00:28, 1059.01it/s]"
     ]
    },
    {
     "name": "stdout",
     "output_type": "stream",
     "text": [
      "ven = NVIDIA Corporation\n",
      "ven = NVIDIA Corporation\n"
     ]
    },
    {
     "name": "stderr",
     "output_type": "stream",
     "text": [
      "100%|██████████| 30000/30000 [00:05<00:00, 5891.68it/s]\n"
     ]
    },
    {
     "name": "stdout",
     "output_type": "stream",
     "text": [
      "post processing contact forces....\n"
     ]
    },
    {
     "name": "stderr",
     "output_type": "stream",
     "text": [
      "100%|██████████| 30000/30000 [00:02<00:00, 14885.93it/s]\n"
     ]
    }
   ],
   "source": [
    "from physical import PhysicalAnimation\n",
    "import pybullet as p\n",
    "anim = PhysicalAnimation(dirname)\n",
    "anim.generate()\n",
    "anim.post_process_contacts()"
   ]
  },
  {
   "cell_type": "code",
   "execution_count": 11,
   "metadata": {},
   "outputs": [
    {
     "name": "stderr",
     "output_type": "stream",
     "text": [
      "100%|██████████| 41346/41346 [00:00<00:00, 69390.81it/s]\n",
      "100%|██████████| 200/200 [00:00<00:00, 353.48it/s]\n"
     ]
    }
   ],
   "source": [
    "SR = 44100\n",
    "from tqdm import tqdm\n",
    "import scipy.signal\n",
    "from audio import save_audio, show_audio, IIR\n",
    "sound_signal = np.zeros(int(anim.time_length * SR))\n",
    "f = np.zeros((len(obj.eigenvalues), len(sound_signal)))\n",
    "for contact in tqdm(anim.contact):\n",
    "    t = int(contact[0] * SR)\n",
    "    vertex_id = int(contact[1])\n",
    "    force_direction = contact[2:5]\n",
    "    impulse = contact[5] * (obj.eigenvectors[vertex_id*3, :] * force_direction[0] +\n",
    "                             obj.eigenvectors[vertex_id*3+1, :] * force_direction[1] +\n",
    "                             obj.eigenvectors[vertex_id*3+2, :] * force_direction[2])\n",
    "    f[:, t] += impulse\n",
    "# smooth force \n",
    "filter_width = 21\n",
    "coeffs = np.sin(np.linspace(0, np.pi, filter_width))\n",
    "coeffs /= np.sum(coeffs)\n",
    "filter = np.zeros((len(obj.eigenvalues), len(sound_signal)))\n",
    "for mode_idx in tqdm(range(len(obj.eigenvalues))):\n",
    "    filter[mode_idx, :] = scipy.signal.convolve(f[mode_idx, :], coeffs, mode='same')\n",
    "f = filter\n",
    "\n",
    "for mode_idx in range(200):\n",
    "    sound_signal += IIR(f[mode_idx], obj.eigenvalues[mode_idx], obj.fem_model.material.alpha, obj.fem_model.material.beta, 1/SR)\n",
    "\n",
    "# get acceleration\n",
    "sound_signal = np.diff(sound_signal, n=2)\n",
    "save_audio(sound_signal, SR, dirname + \"/sound.wav\")"
   ]
  },
  {
   "cell_type": "code",
   "execution_count": 12,
   "metadata": {},
   "outputs": [
    {
     "data": {
      "text/html": [
       "<video src=\"/home/jxt/PPPM-TDBEM/dataset/bowl/animation+sound.mp4\" controls  >\n",
       "      Your browser does not support the <code>video</code> element.\n",
       "    </video>"
      ],
      "text/plain": [
       "<IPython.core.display.Video object>"
      ]
     },
     "execution_count": 12,
     "metadata": {},
     "output_type": "execute_result"
    }
   ],
   "source": [
    "import subprocess\n",
    "from IPython.display import Video\n",
    "video_name = dirname + '/animation.mp4'\n",
    "audio_name = dirname + '/sound.wav'\n",
    "output_name = dirname + '/animation+sound.mp4'\n",
    "subprocess.run(['ffmpeg', '-hide_banner', '-loglevel', 'error', '-i', video_name, '-i', audio_name, '-c:v', 'copy', '-c:a', 'libvorbis', '-f', 'mp4', output_name, '-y'])\n",
    "Video(output_name)"
   ]
  }
 ],
 "metadata": {
  "kernelspec": {
   "display_name": "DAS",
   "language": "python",
   "name": "python3"
  },
  "language_info": {
   "codemirror_mode": {
    "name": "ipython",
    "version": 3
   },
   "file_extension": ".py",
   "mimetype": "text/x-python",
   "name": "python",
   "nbconvert_exporter": "python",
   "pygments_lexer": "ipython3",
   "version": "3.7.13 (default, Mar 29 2022, 02:18:16) \n[GCC 7.5.0]"
  },
  "orig_nbformat": 4,
  "vscode": {
   "interpreter": {
    "hash": "f3853af356329710422b6d63fde47fcd094805714b19e924af01a796710f0447"
   }
  }
 },
 "nbformat": 4,
 "nbformat_minor": 2
}
