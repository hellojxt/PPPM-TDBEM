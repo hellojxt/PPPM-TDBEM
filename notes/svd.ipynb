{
 "cells": [
  {
   "cell_type": "code",
   "execution_count": 4,
   "metadata": {},
   "outputs": [
    {
     "name": "stdout",
     "output_type": "stream",
     "text": [
      "[[-0.2301501  -0.51801074 -0.82382996]\n",
      " [-0.41759775 -0.71207959  0.56440657]\n",
      " [-0.87900117  0.47392777 -0.05243493]]\n",
      "[15.82163215  1.61897756  0.23423896]\n",
      "[[-0.45623319 -0.57912486 -0.67562243]\n",
      " [ 0.84950185 -0.05739285 -0.52445464]\n",
      " [-0.26494883  0.81321612 -0.51815216]]\n",
      "inverse of A\n",
      "[[ 0.66666667 -1.          0.33333333]\n",
      " [-2.83333333  2.         -0.16666667]\n",
      " [ 2.         -1.          0.        ]]\n"
     ]
    }
   ],
   "source": [
    "import numpy as np\n",
    "\n",
    "A = np.array(\n",
    "    [\n",
    "        [1, 2, 3],\n",
    "        [2, 4, 5],\n",
    "        [7, 8, 9],\n",
    "    ]\n",
    ")\n",
    "u, s, vh = np.linalg.svd(A)\n",
    "print(u)\n",
    "print(s)\n",
    "print(vh)\n",
    "\n",
    "print(\"inverse of A\")\n",
    "print(np.linalg.inv(A))"
   ]
  }
 ],
 "metadata": {
  "kernelspec": {
   "display_name": "Python 3.7.13 ('DAS')",
   "language": "python",
   "name": "python3"
  },
  "language_info": {
   "codemirror_mode": {
    "name": "ipython",
    "version": 3
   },
   "file_extension": ".py",
   "mimetype": "text/x-python",
   "name": "python",
   "nbconvert_exporter": "python",
   "pygments_lexer": "ipython3",
   "version": "3.7.13"
  },
  "orig_nbformat": 4,
  "vscode": {
   "interpreter": {
    "hash": "f3853af356329710422b6d63fde47fcd094805714b19e924af01a796710f0447"
   }
  }
 },
 "nbformat": 4,
 "nbformat_minor": 2
}
