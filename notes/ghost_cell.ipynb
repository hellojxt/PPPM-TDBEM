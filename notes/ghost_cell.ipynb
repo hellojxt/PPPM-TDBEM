{
 "cells": [
  {
   "cell_type": "code",
   "execution_count": 1,
   "metadata": {},
   "outputs": [
    {
     "name": "stdout",
     "output_type": "stream",
     "text": [
      "[[-1.  1.  1.  1. -1. -1. -1.  1.]\n",
      " [-1.  1.  0.  1. -1.  0.  0.  0.]\n",
      " [ 1. -1. -1.  1. -1.  1. -1.  1.]\n",
      " [-1.  1. -1. -1.  1.  1. -1.  1.]\n",
      " [ 1.  1. -1. -1. -1. -1.  1.  1.]\n",
      " [-1. -1. -1.  1.  1. -1.  1.  1.]\n",
      " [-1. -1.  1. -1. -1.  1.  1.  1.]\n",
      " [ 1.  1.  1.  1.  1.  1.  1.  1.]]\n",
      "[[-0.    -0.25   0.125 -0.125  0.125 -0.125 -0.125  0.125]\n",
      " [ 0.     0.25  -0.125  0.125  0.125 -0.125 -0.125  0.125]\n",
      " [ 0.25  -0.25  -0.125 -0.125 -0.125 -0.125  0.125  0.125]\n",
      " [ 0.     0.25   0.125 -0.125 -0.125  0.125 -0.125  0.125]\n",
      " [-0.    -0.25  -0.125  0.125 -0.125  0.125 -0.125  0.125]\n",
      " [-0.25   0.25   0.125  0.125 -0.125 -0.125  0.125  0.125]\n",
      " [-0.25   0.25  -0.125 -0.125  0.125  0.125  0.125  0.125]\n",
      " [ 0.25  -0.25   0.125  0.125  0.125  0.125  0.125  0.125]]\n",
      "[-0.25  0.25 -0.25  0.25 -0.25  0.25  0.25 -0.25]\n",
      "[-1.e-06  1.e-06  1.e+00  1.e-06 -1.e-06 -1.e+00 -1.e+00  1.e+00]\n",
      "-0.999999\n",
      "-0.999999\n"
     ]
    }
   ],
   "source": [
    "import numpy as np\n",
    "\n",
    "phi = np.zeros((8, 8))\n",
    "idx = 0\n",
    "for dz in [-1, 1]:\n",
    "    for dy in [-1, 1]:\n",
    "        for dx in [-1, 1]:\n",
    "            phi[idx] = [dx*dy*dz, dx*dy, dy*dz, dx*dz, dx, dy, dz, 1]\n",
    "            idx += 1\n",
    "   \n",
    "dz = -1\n",
    "dy = -1 \n",
    "dx = 1\n",
    "normal = np.array([-1, 0, 0])\n",
    "phi[1] = [\n",
    "    normal.dot([dy*dz, dx*dy, dy*dz]),\n",
    "    normal.dot([dy, dx, 0]),\n",
    "    normal.dot([0, dz, dy]),\n",
    "    normal.dot([dz, 0, dx]),\n",
    "    normal.dot([1, 0, 0]),\n",
    "    normal.dot([0, 1, 0]),\n",
    "    normal.dot([0, 0, 1]),\n",
    "    0\n",
    "]\n",
    "\n",
    "print(phi)\n",
    "\n",
    "inv_phi = np.linalg.inv(phi)\n",
    "\n",
    "print(inv_phi)\n",
    "b = np.array([0, 1, 0, 0, 0, 0, 0, 0])\n",
    "\n",
    "r = np.array([-0.000001, -1.000000, -1.000000])\n",
    "phi_r = np.array([r[0]*r[1]*r[2], r[0]*r[1], r[1]*r[2], r[0]*r[2], r[0], r[1], r[2], 1])\n",
    "c = inv_phi.dot(b)\n",
    "print(c)\n",
    "print(phi_r)\n",
    "print(inv_phi.T.dot(phi_r).dot(b))\n",
    "print(phi_r.dot(inv_phi.dot(b)))"
   ]
  },
  {
   "cell_type": "code",
   "execution_count": 2,
   "metadata": {},
   "outputs": [
    {
     "name": "stdout",
     "output_type": "stream",
     "text": [
      "216\n",
      "145\n",
      "216\n"
     ]
    }
   ],
   "source": [
    "import numpy as np\n",
    "values = []\n",
    "rows = []\n",
    "cols = []\n",
    "with open('matrix.txt') as f:\n",
    "    lines = f.readlines()\n",
    "    i = 0\n",
    "    while len(lines[i]) > 3:\n",
    "        _, v = lines[i].split(':')\n",
    "        i += 1\n",
    "        values.append(float(v))\n",
    "    i += 1\n",
    "    while len(lines[i]) > 3:\n",
    "        _, v = lines[i].split(':')\n",
    "        i += 1\n",
    "        rows.append(int(v))\n",
    "    i += 1\n",
    "    while i < len(lines) and len(lines[i]) > 3:\n",
    "        _, v = lines[i].split(':')\n",
    "        i += 1\n",
    "        cols.append(int(v))\n",
    "\n",
    "print(len(values))\n",
    "print(len(rows))\n",
    "print(len(cols))"
   ]
  },
  {
   "cell_type": "code",
   "execution_count": 7,
   "metadata": {},
   "outputs": [
    {
     "name": "stdout",
     "output_type": "stream",
     "text": [
      "[[ 1.         0.         0.         0.         0.         0.\n",
      "   0.         0.         0.         0.         0.         0.\n",
      "   0.         0.         0.         0.         0.         0.\n",
      "   0.         0.         0.         0.         0.         0.\n",
      "   0.         0.         0.         0.         0.         0.\n",
      "   0.         0.         0.         0.         0.         0.\n",
      "   0.         0.         0.         0.         0.         0.\n",
      "   0.         0.         0.         0.         0.         0.\n",
      "   0.         0.         0.         0.         0.         0.\n",
      "   0.         0.         0.         0.         0.         0.\n",
      "   0.         0.         0.         0.         0.         0.\n",
      "   0.         0.         0.         0.         0.         0.\n",
      "   0.         0.         0.         0.         0.         0.\n",
      "   0.         0.         0.         0.         0.         0.\n",
      "   0.         0.         0.         0.         0.         0.\n",
      "   0.         0.         0.         0.         0.         0.\n",
      "   0.         0.         0.         0.         0.         0.\n",
      "   0.         0.         0.         0.         0.         0.\n",
      "   0.         0.         0.         0.         0.         0.\n",
      "   0.         0.         0.         0.         0.         0.\n",
      "   0.         0.         0.         0.         0.         0.\n",
      "   0.         0.         0.         0.         0.         0.\n",
      "   0.         0.         0.         0.         0.         0.\n",
      "   0.         0.         0.         0.         0.         0.       ]\n",
      " [ 0.         1.         0.         0.         0.         0.\n",
      "   0.         0.         0.         0.         0.         0.\n",
      "   0.         0.         0.         0.         0.         0.\n",
      "   0.         0.         0.         0.         0.         0.\n",
      "   0.         0.         0.         0.         0.         0.\n",
      "   0.         0.         0.         0.         0.         0.\n",
      "   0.         0.         0.         0.         0.         0.\n",
      "   0.         0.         0.         0.         0.         0.\n",
      "   0.         0.         0.         0.         0.         0.\n",
      "   0.         0.         0.         0.         0.         0.\n",
      "   0.         0.         0.         0.         0.         0.\n",
      "   0.         0.         0.         0.         0.         0.\n",
      "   0.         0.         0.         0.         0.         0.\n",
      "   0.         0.         0.         0.         0.         0.\n",
      "   0.         0.         0.         0.         0.         0.\n",
      "   0.         0.         0.         0.         0.         0.\n",
      "   0.         0.         0.         0.         0.         0.\n",
      "   0.         0.         0.         0.         0.         0.\n",
      "   0.         0.         0.         0.         0.         0.\n",
      "   0.         0.         0.         0.         0.         0.\n",
      "   0.         0.         0.         0.         0.         0.\n",
      "   0.         0.         0.         0.         0.         0.\n",
      "   0.         0.         0.         0.         0.         0.\n",
      "   0.         0.         0.         0.         0.         0.       ]\n",
      " [ 0.         0.         1.         0.         0.         0.\n",
      "   0.         0.         0.         0.         0.         0.\n",
      "   0.         0.         0.         0.         0.         0.\n",
      "   0.         0.         0.         0.         0.         0.\n",
      "   0.         0.         0.         0.         0.         0.\n",
      "   0.         0.         0.         0.         0.         0.\n",
      "   0.         0.         0.         0.         0.         0.\n",
      "   0.         0.         0.         0.         0.         0.\n",
      "   0.         0.         0.         0.         0.         0.\n",
      "   0.         0.         0.         0.         0.         0.\n",
      "   0.         0.         0.         0.         0.         0.\n",
      "   0.         0.         0.         0.         0.         0.\n",
      "   0.         0.         0.         0.         0.         0.\n",
      "   0.         0.         0.         0.         0.         0.\n",
      "   0.         0.         0.         0.         0.         0.\n",
      "   0.         0.         0.         0.         0.         0.\n",
      "   0.         0.         0.         0.         0.         0.\n",
      "   0.         0.         0.         0.         0.         0.\n",
      "   0.         0.         0.         0.         0.         0.\n",
      "   0.         0.         0.         0.         0.         0.\n",
      "   0.         0.         0.         0.         0.         0.\n",
      "   0.         0.         0.         0.         0.         0.\n",
      "   0.         0.         0.         0.         0.         0.\n",
      "   0.         0.         0.         0.         0.         0.       ]\n",
      " [-0.0212855  0.        -0.0157228  1.         0.         0.\n",
      "   0.         0.         0.         0.         0.         0.\n",
      "   0.         0.         0.         0.         0.         0.\n",
      "   0.         0.         0.         0.         0.         0.\n",
      "   0.         0.         0.         0.         0.         0.\n",
      "   0.         0.         0.         0.         0.         0.\n",
      "   0.         0.         0.         0.         0.         0.\n",
      "   0.         0.         0.         0.         0.         0.\n",
      "   0.         0.         0.         0.         0.         0.\n",
      "   0.         0.         0.         0.         0.         0.\n",
      "   0.         0.         0.         0.         0.         0.\n",
      "   0.         0.         0.         0.         0.         0.\n",
      "   0.         0.         0.         0.         0.         0.\n",
      "   0.         0.         0.         0.         0.         0.\n",
      "   0.         0.         0.         0.         0.         0.\n",
      "   0.         0.         0.         0.         0.         0.\n",
      "   0.         0.         0.         0.         0.         0.\n",
      "   0.         0.         0.         0.         0.         0.\n",
      "   0.         0.         0.         0.         0.         0.\n",
      "   0.         0.         0.         0.         0.         0.\n",
      "   0.         0.         0.         0.         0.         0.\n",
      "   0.         0.         0.         0.         0.         0.\n",
      "   0.         0.         0.         0.         0.         0.\n",
      "   0.         0.         0.         0.         0.         0.       ]]\n"
     ]
    }
   ],
   "source": [
    "from scipy.sparse import csr_matrix\n",
    "matrix = csr_matrix((values, cols, rows), shape=(len(rows) - 1, len(rows) - 1)).toarray()\n",
    "for i in range(len(rows) - 1):\n",
    "    line = matrix[i]\n",
    "    if (matrix[i,i] != 1):\n",
    "        print(i, \":\", line)\n",
    "    if (np.abs(line).sum() > 2):\n",
    "        print(i, \":\", line)\n",
    "print(matrix[:4])"
   ]
  },
  {
   "cell_type": "code",
   "execution_count": 4,
   "metadata": {},
   "outputs": [
    {
     "data": {
      "text/plain": [
       "array([[1., 0., 0., ..., 0., 0., 0.],\n",
       "       [0., 1., 0., ..., 0., 0., 0.],\n",
       "       [0., 0., 1., ..., 0., 0., 0.],\n",
       "       ...,\n",
       "       [0., 0., 0., ..., 1., 0., 0.],\n",
       "       [0., 0., 0., ..., 0., 1., 0.],\n",
       "       [0., 0., 0., ..., 0., 0., 1.]])"
      ]
     },
     "execution_count": 4,
     "metadata": {},
     "output_type": "execute_result"
    }
   ],
   "source": [
    "# invert the matrix\n",
    "matrix = np.linalg.inv(matrix)\n",
    "matrix"
   ]
  },
  {
   "cell_type": "code",
   "execution_count": 5,
   "metadata": {},
   "outputs": [
    {
     "name": "stdout",
     "output_type": "stream",
     "text": [
      "(144, 144)\n",
      "[[1. 0. 0. ... 0. 0. 0.]\n",
      " [0. 1. 0. ... 0. 0. 0.]\n",
      " [0. 0. 1. ... 0. 0. 0.]\n",
      " ...\n",
      " [0. 0. 0. ... 1. 0. 0.]\n",
      " [0. 0. 0. ... 0. 1. 0.]\n",
      " [0. 0. 0. ... 0. 0. 1.]]\n",
      "[[1. 0. 0. ... 0. 0. 0.]\n",
      " [0. 1. 0. ... 0. 0. 0.]\n",
      " [0. 0. 1. ... 0. 0. 0.]\n",
      " ...\n",
      " [0. 0. 0. ... 1. 0. 0.]\n",
      " [0. 0. 0. ... 0. 1. 0.]\n",
      " [0. 0. 0. ... 0. 0. 1.]]\n"
     ]
    }
   ],
   "source": [
    "# LU decomposition\n",
    "import scipy\n",
    "from scipy.linalg import lu\n",
    "P, L, U = lu(matrix)\n",
    "print(P.shape)\n",
    "print(L)\n",
    "print(U)"
   ]
  }
 ],
 "metadata": {
  "kernelspec": {
   "display_name": "Python 3.7.13 ('DAS')",
   "language": "python",
   "name": "python3"
  },
  "language_info": {
   "codemirror_mode": {
    "name": "ipython",
    "version": 3
   },
   "file_extension": ".py",
   "mimetype": "text/x-python",
   "name": "python",
   "nbconvert_exporter": "python",
   "pygments_lexer": "ipython3",
   "version": "3.7.13"
  },
  "orig_nbformat": 4,
  "vscode": {
   "interpreter": {
    "hash": "f3853af356329710422b6d63fde47fcd094805714b19e924af01a796710f0447"
   }
  }
 },
 "nbformat": 4,
 "nbformat_minor": 2
}
